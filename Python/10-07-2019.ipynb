{
 "cells": [
  {
   "cell_type": "code",
   "execution_count": 32,
   "metadata": {
    "scrolled": true
   },
   "outputs": [
    {
     "name": "stdout",
     "output_type": "stream",
     "text": [
      "3\n",
      "kishore 67 68 69\n",
      "arjun 70 98 63\n",
      "malika 52 56 60\n",
      "malika\n",
      "56.00\n"
     ]
    }
   ],
   "source": [
    "n=int(input())\n",
    "p=[]\n",
    "for i in range(n):\n",
    "    m=[]\n",
    "    k=input().split()\n",
    "    s=k[0]\n",
    "    m=[float(i) for i in k[1:]]\n",
    "    o=sum(m)/3\n",
    "    l=[[s,o]]\n",
    "    p.extend(l)\n",
    "\n",
    "f=input()\n",
    "for i in p:\n",
    "    if i[0] == f:\n",
    "        print(\"%.2f\"%(i[1]))\n",
    " "
   ]
  },
  {
   "cell_type": "code",
   "execution_count": 2,
   "metadata": {},
   "outputs": [
    {
     "name": "stdout",
     "output_type": "stream",
     "text": [
      "3\n"
     ]
    }
   ],
   "source": [
    "a=[1,2]\n",
    "b=sum(a)\n",
    "print(b)"
   ]
  },
  {
   "cell_type": "code",
   "execution_count": 1,
   "metadata": {},
   "outputs": [
    {
     "name": "stdout",
     "output_type": "stream",
     "text": [
      "[1, 2, 3]\n"
     ]
    }
   ],
   "source": [
    "p=['1','2','3']\n",
    "k=[int(i) for i in p]\n",
    "print(k)"
   ]
  },
  {
   "cell_type": "code",
   "execution_count": 33,
   "metadata": {},
   "outputs": [
    {
     "data": {
      "text/plain": [
       "'raju-is-good-at-teaching'"
      ]
     },
     "execution_count": 33,
     "metadata": {},
     "output_type": "execute_result"
    }
   ],
   "source": [
    "l=['raju','is','good','at','teaching']\n",
    "l=\"-\".join(l)\n",
    "l"
   ]
  },
  {
   "cell_type": "code",
   "execution_count": 9,
   "metadata": {},
   "outputs": [
    {
     "name": "stdout",
     "output_type": "stream",
     "text": [
      "aabcde\n",
      "1\n",
      "b\n",
      "abbcde\n"
     ]
    }
   ],
   "source": [
    "# replace a character in string\n",
    "\n",
    "def repll(s,k,m):\n",
    "    ss=s[:k]\n",
    "    mm=s[k+1:]\n",
    "#     print(ss,mm)\n",
    "    l=ss+m+mm\n",
    "    print(l)\n",
    "\n",
    "s=input()\n",
    "k=int(input())\n",
    "m=input()\n",
    "\n",
    "repll(s,k,m)"
   ]
  },
  {
   "cell_type": "code",
   "execution_count": 43,
   "metadata": {},
   "outputs": [
    {
     "name": "stdout",
     "output_type": "stream",
     "text": [
      "0\n"
     ]
    }
   ],
   "source": [
    "s=\"abracababra\"\n",
    "k=5\n",
    "s=s.index(s[:k:])\n",
    "print(s)"
   ]
  },
  {
   "cell_type": "code",
   "execution_count": 48,
   "metadata": {},
   "outputs": [
    {
     "name": "stdout",
     "output_type": "stream",
     "text": [
      "harish raju\n",
      "Harish Raju "
     ]
    }
   ],
   "source": [
    "def ret(s):\n",
    "    s=s.split()\n",
    "    for i in s:\n",
    "        print(i.title(),end=\" \")\n",
    "    return\n",
    "\n",
    "s=input()\n",
    "ret(s)"
   ]
  },
  {
   "cell_type": "code",
   "execution_count": 49,
   "metadata": {},
   "outputs": [
    {
     "name": "stdout",
     "output_type": "stream",
     "text": [
      "abrackdabra\n"
     ]
    }
   ],
   "source": [
    "string = \"abracadabra\"\n",
    "string = string[:5] + \"k\" + string[6:]\n",
    "print(string)"
   ]
  },
  {
   "cell_type": "code",
   "execution_count": 52,
   "metadata": {},
   "outputs": [
    {
     "name": "stdout",
     "output_type": "stream",
     "text": [
      "abracadabra\n",
      "5\n",
      "k\n"
     ]
    },
    {
     "data": {
      "text/plain": [
       "'abrackdabra'"
      ]
     },
     "execution_count": 52,
     "metadata": {},
     "output_type": "execute_result"
    }
   ],
   "source": [
    "def reaa(s,l,c):\n",
    "    s=s[:k]+c+s[k+1:]\n",
    "    return s\n",
    "\n",
    "s=input()\n",
    "k=int(input())\n",
    "c=input()\n",
    "reaa(s,k,c)"
   ]
  },
  {
   "cell_type": "code",
   "execution_count": null,
   "metadata": {},
   "outputs": [],
   "source": []
  }
 ],
 "metadata": {
  "kernelspec": {
   "display_name": "Python 3",
   "language": "python",
   "name": "python3"
  },
  "language_info": {
   "codemirror_mode": {
    "name": "ipython",
    "version": 3
   },
   "file_extension": ".py",
   "mimetype": "text/x-python",
   "name": "python",
   "nbconvert_exporter": "python",
   "pygments_lexer": "ipython3",
   "version": "3.7.3"
  }
 },
 "nbformat": 4,
 "nbformat_minor": 2
}
