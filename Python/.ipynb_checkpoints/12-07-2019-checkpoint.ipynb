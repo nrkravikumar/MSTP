{
 "cells": [
  {
   "cell_type": "code",
   "execution_count": 1,
   "metadata": {},
   "outputs": [
    {
     "name": "stdout",
     "output_type": "stream",
     "text": [
      "abcdefghijklmnopqrstuvwxyzaa\n",
      "4\n",
      "abcd\n",
      "efgh\n",
      "ijkl\n",
      "mnop\n",
      "qrst\n",
      "uvwx\n",
      "yzaa\n"
     ]
    }
   ],
   "source": [
    "import textwrap\n",
    "\n",
    "def wrap(string, max_width):\n",
    "    return textwrap.fill(string,max_width)\n",
    "\n",
    "if __name__ == '__main__':\n",
    "    string, max_width = input(), int(input())\n",
    "    result = wrap(string, max_width)\n",
    "    print(result)"
   ]
  },
  {
   "cell_type": "code",
   "execution_count": 5,
   "metadata": {},
   "outputs": [
    {
     "name": "stdout",
     "output_type": "stream",
     "text": [
      "2\n",
      "2\n",
      "6\n",
      "1\n",
      "1\n"
     ]
    }
   ],
   "source": [
    "# Pentagon problem\n",
    "\n",
    "n= int(input())\n",
    "for i in range(n):\n",
    "    n1=int(input())\n",
    "    s=1\n",
    "    for j in range(2,n1+1):\n",
    "        s+=(j-1)*5\n",
    "    print(s)"
   ]
  },
  {
   "cell_type": "code",
   "execution_count": 7,
   "metadata": {},
   "outputs": [
    {
     "name": "stdout",
     "output_type": "stream",
     "text": [
      "2\n",
      "asdasdasd djklfhgkjdf fkjnclknskc csdkj\n",
      "valid\n",
      "asdasd ertertet lkkjvnkbvnk\n",
      "invalid\n"
     ]
    }
   ],
   "source": [
    "# shiritori game!\n",
    "\n",
    "n = int(input())\n",
    "for i in range(n):\n",
    "    s = input().split()\n",
    "    if len(s)==1:\n",
    "        print('valid')\n",
    "    else:\n",
    "        status = True\n",
    "        for i in range(1,len(s)):\n",
    "            word1 = s[i]\n",
    "            word2 = s[i-1]\n",
    "            if word1[0] != word2[-1]:\n",
    "                status = False\n",
    "        for i in s:\n",
    "            if s.count(i)>1:\n",
    "                status=False\n",
    "        if status:\n",
    "            print(\"valid\")\n",
    "        else:\n",
    "            print(\"invalid\")\n",
    "            "
   ]
  },
  {
   "cell_type": "code",
   "execution_count": 13,
   "metadata": {},
   "outputs": [
    {
     "name": "stdout",
     "output_type": "stream",
     "text": [
      "11\n",
      "b\n",
      "B\n"
     ]
    }
   ],
   "source": [
    "x = int(input())\n",
    "m=hex(x)\n",
    "print(m[2:])\n",
    "z=m[2:]\n",
    "print(z.upper())"
   ]
  },
  {
   "cell_type": "code",
   "execution_count": null,
   "metadata": {},
   "outputs": [],
   "source": []
  }
 ],
 "metadata": {
  "kernelspec": {
   "display_name": "Python 3",
   "language": "python",
   "name": "python3"
  },
  "language_info": {
   "codemirror_mode": {
    "name": "ipython",
    "version": 3
   },
   "file_extension": ".py",
   "mimetype": "text/x-python",
   "name": "python",
   "nbconvert_exporter": "python",
   "pygments_lexer": "ipython3",
   "version": "3.7.3"
  }
 },
 "nbformat": 4,
 "nbformat_minor": 2
}
