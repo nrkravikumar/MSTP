{
 "cells": [
  {
   "cell_type": "code",
   "execution_count": 26,
   "metadata": {},
   "outputs": [
    {
     "name": "stdout",
     "output_type": "stream",
     "text": [
      "1 200\n",
      "6 12 18 24 30 36 42 48 54 60 66 72 78 84 90 96 102 108 114 120 126 132 138 144 150 156 162 168 174 180 186 192 198 "
     ]
    }
   ],
   "source": [
    "#Function to print all numbers divisible by 6 and not a factor of 100 in a given range(lb, ub) inclusive\n",
    "\n",
    "\n",
    "def divisible(lb,up):\n",
    "    for i in range(lb,up+1):\n",
    "        if i%6==0 and 100%i!=0:\n",
    "            print(i,end=\" \")\n",
    "    return\n",
    "    \n",
    "lb,up = input().split()\n",
    "divisible(int(lb),int(up))\n"
   ]
  },
  {
   "cell_type": "code",
   "execution_count": 29,
   "metadata": {},
   "outputs": [
    {
     "name": "stdout",
     "output_type": "stream",
     "text": [
      "1 6\n",
      "96\n"
     ]
    }
   ],
   "source": [
    "#Function to find the average of cubes of all even numbers in a given range(lb, ub) inclusive\n",
    "\n",
    "def cubes(lb,ub):\n",
    "    sum = k = m = 0\n",
    "    for i in range(lb,ub+1):\n",
    "        if i%2==0:\n",
    "            k = i**3\n",
    "            sum=sum + k\n",
    "            m = m + 1\n",
    "    print(sum//m)\n",
    "    \n",
    "lb,ub = input().split()\n",
    "cubes(int(lb),int(ub)) "
   ]
  },
  {
   "cell_type": "code",
   "execution_count": 34,
   "metadata": {},
   "outputs": [
    {
     "name": "stdout",
     "output_type": "stream",
     "text": [
      "100\n",
      "1 2 4 5 10 20 25 50 100 "
     ]
    }
   ],
   "source": [
    "#Function to generate the list of factors for a given number\n",
    "\n",
    "\n",
    "def factors(n):\n",
    "    for i in range(1,n+1):\n",
    "        if n%i==0:\n",
    "            print(i,end=\" \")\n",
    "    return\n",
    "\n",
    "n = int(input())\n",
    "factors(n)"
   ]
  },
  {
   "cell_type": "code",
   "execution_count": 36,
   "metadata": {},
   "outputs": [
    {
     "name": "stdout",
     "output_type": "stream",
     "text": [
      "6\n",
      "720\n"
     ]
    }
   ],
   "source": [
    "#Function to calculate the factorial of a given number\n",
    "\n",
    "def factorial(n):\n",
    "    fact = 1\n",
    "    for i in range(1,n+1):\n",
    "        fact = fact * i\n",
    "    print(fact)\n",
    "    return\n",
    "\n",
    "n = int(input())\n",
    "factorial(n)"
   ]
  },
  {
   "cell_type": "code",
   "execution_count": 40,
   "metadata": {},
   "outputs": [
    {
     "name": "stdout",
     "output_type": "stream",
     "text": [
      "2\n"
     ]
    },
    {
     "data": {
      "text/plain": [
       "True"
      ]
     },
     "execution_count": 40,
     "metadata": {},
     "output_type": "execute_result"
    }
   ],
   "source": [
    "#Function to check if a given number is Prime\n",
    "\n",
    "def isPrime(n):\n",
    "    count = 0\n",
    "    for i in range(1,n+1):\n",
    "        if n%i==0:\n",
    "            count = count + 1\n",
    "#         print(count)\n",
    "    if count <= 2:\n",
    "        return True\n",
    "    else:\n",
    "        return False\n",
    "\n",
    "    \n",
    "n = int(input())\n",
    "isPrime(n)\n",
    "\n"
   ]
  },
  {
   "cell_type": "code",
   "execution_count": 19,
   "metadata": {},
   "outputs": [
    {
     "name": "stdout",
     "output_type": "stream",
     "text": [
      "6\n",
      "3\n"
     ]
    }
   ],
   "source": [
    "#Function to calculate the average first N Prime numbers\n",
    "def isPrime(n):\n",
    "    count = 0\n",
    "    for i in range(1,n+1):\n",
    "        if n%i==0:\n",
    "            count = count + 1    \n",
    "    if count == 2:\n",
    "        return True\n",
    "    else:\n",
    "        return False\n",
    "\n",
    "def firstfive(n):\n",
    "    sum=c=0\n",
    "    for i in range(1,n+1):\n",
    "        if isPrime(i):\n",
    "            #print(i)\n",
    "            sum=sum+i\n",
    "            c=c+1\n",
    "#     print(sum,c)\n",
    "    print(sum//c)\n",
    "    \n",
    "n = input()\n",
    "firstfive(int(n))"
   ]
  },
  {
   "cell_type": "code",
   "execution_count": 7,
   "metadata": {},
   "outputs": [
    {
     "name": "stdout",
     "output_type": "stream",
     "text": [
      "1000\n",
      "6 28 496 "
     ]
    }
   ],
   "source": [
    "#Function to generate all Perfect numbers in a given range\n",
    "\n",
    "def isperfect(n):\n",
    "    sum=0\n",
    "    for j in range(1,n):\n",
    "        if n%j==0:\n",
    "            sum+=j\n",
    "    if sum==n:\n",
    "        return True\n",
    "    else:\n",
    "        return False\n",
    "\n",
    "def generateperfect(ub):\n",
    "    for i in range(1,ub+1):\n",
    "        if isperfect(i):\n",
    "            print(i,end=\" \")\n",
    "    return\n",
    "n = int(input())\n",
    "generateperfect(n)"
   ]
  },
  {
   "cell_type": "code",
   "execution_count": 38,
   "metadata": {},
   "outputs": [
    {
     "name": "stdout",
     "output_type": "stream",
     "text": [
      "6\n",
      "145.5\n"
     ]
    }
   ],
   "source": [
    "#Function to calculate the average of all factorials in a given range\n",
    "def avgFact(n):\n",
    "    fact=1\n",
    "    sum=co=0\n",
    "    for i in range(1,n+1):\n",
    "        fact *=i\n",
    "        sum +=fact\n",
    "        co +=1\n",
    "    print(sum/co)\n",
    "    \n",
    "n=int(input())\n",
    "avgFact(n)"
   ]
  },
  {
   "cell_type": "code",
   "execution_count": 39,
   "metadata": {},
   "outputs": [
    {
     "name": "stdout",
     "output_type": "stream",
     "text": [
      "10 * 100 = 1000\n",
      "10 * 101 = 1010\n",
      "10 * 102 = 1020\n"
     ]
    }
   ],
   "source": [
    "# Function to generate Multiplication table for a number in a given range\n",
    "# 10 in the range(100, 102) inclusive\n",
    "# 10 x 100 = 1000\n",
    "# 10 x 101 = 1010\n",
    "# 10 x 102 = 1020\n",
    "\n",
    "\n",
    "def Multab(n,lw,up):\n",
    "    for i in range(lw,up+1):\n",
    "        print(n,\"*\",i,\"=\",n*i)\n",
    "Multab(10,100,102)"
   ]
  },
  {
   "cell_type": "code",
   "execution_count": 20,
   "metadata": {},
   "outputs": [
    {
     "data": {
      "text/plain": [
       "[6, 5, 4, 3, 2, 1]"
      ]
     },
     "execution_count": 20,
     "metadata": {},
     "output_type": "execute_result"
    }
   ],
   "source": [
    "# 09-07-2019\n",
    "\n",
    "l = [1,2,3,4,5,6]\n",
    "l = sorted(l,reverse=True)\n",
    "l"
   ]
  },
  {
   "cell_type": "code",
   "execution_count": 21,
   "metadata": {},
   "outputs": [
    {
     "name": "stdout",
     "output_type": "stream",
     "text": [
      "raju\n"
     ]
    },
    {
     "data": {
      "text/plain": [
       "'raju'"
      ]
     },
     "execution_count": 21,
     "metadata": {},
     "output_type": "execute_result"
    }
   ],
   "source": [
    "name = input()\n",
    "name"
   ]
  },
  {
   "cell_type": "code",
   "execution_count": 23,
   "metadata": {},
   "outputs": [
    {
     "name": "stdout",
     "output_type": "stream",
     "text": [
      "23\n"
     ]
    },
    {
     "data": {
      "text/plain": [
       "23"
      ]
     },
     "execution_count": 23,
     "metadata": {},
     "output_type": "execute_result"
    }
   ],
   "source": [
    "n = int(input())\n",
    "n"
   ]
  },
  {
   "cell_type": "code",
   "execution_count": 24,
   "metadata": {},
   "outputs": [
    {
     "name": "stdout",
     "output_type": "stream",
     "text": [
      "34.778\n"
     ]
    },
    {
     "data": {
      "text/plain": [
       "34.778"
      ]
     },
     "execution_count": 24,
     "metadata": {},
     "output_type": "execute_result"
    }
   ],
   "source": [
    "n = float(input())\n",
    "n"
   ]
  },
  {
   "cell_type": "code",
   "execution_count": 31,
   "metadata": {},
   "outputs": [
    {
     "name": "stdout",
     "output_type": "stream",
     "text": [
      "5\n",
      "12\n",
      "12\n",
      "12\n",
      "11\n",
      "14\n",
      "12\n"
     ]
    }
   ],
   "source": [
    "# Given the participants ‘n’ score sheet for your University Sports Day, \n",
    "# you are required to find the runner-up score. You are given scores. Store them in a list \n",
    "# and find the score of the runner-up. (there can be multiple winners - if their scores match). \n",
    "\n",
    "#Read the Number of Participants\n",
    "\n",
    "n=int(input())\n",
    "scores = []\n",
    "for i in range(n):\n",
    "    s = int(input())\n",
    "    scores.append(s)\n",
    "scores = sorted(scores,reverse=True)\n",
    "# scores[1]\n",
    "max_score = max(scores)\n",
    "runner_up_score = scores[1]\n",
    "for i in range(1,n):\n",
    "    if max_score == scores[i]:\n",
    "        runner_up_score = scores[i+1]\n",
    "print(runner_up_score)"
   ]
  },
  {
   "cell_type": "code",
   "execution_count": 32,
   "metadata": {},
   "outputs": [
    {
     "name": "stdout",
     "output_type": "stream",
     "text": [
      "__add__ __class__ __contains__ __delattr__ __delitem__ __dir__ __doc__ __eq__ __format__ __ge__ __getattribute__ __getitem__ __gt__ __hash__ __iadd__ __imul__ __init__ __init_subclass__ __iter__ __le__ __len__ __lt__ __mul__ __ne__ __new__ __reduce__ __reduce_ex__ __repr__ __reversed__ __rmul__ __setattr__ __setitem__ __sizeof__ __str__ __subclasshook__ append clear copy count extend index insert pop remove reverse sort "
     ]
    }
   ],
   "source": [
    "l = dir(list)\n",
    "for i in l:\n",
    "    print(i,end=\" \")"
   ]
  },
  {
   "cell_type": "code",
   "execution_count": 52,
   "metadata": {},
   "outputs": [
    {
     "data": {
      "text/plain": [
       "[]"
      ]
     },
     "execution_count": 52,
     "metadata": {},
     "output_type": "execute_result"
    }
   ],
   "source": [
    "l = [1,2,3,1]\n",
    "# l.clear() which Clears the list\n",
    "# l[2] Accessing individual elements in the list\n",
    "# l2 = l.copy() \n",
    "# l2 = ['raju','somu','kishore']\n",
    "# l2.extend(l) Adds the elements in last of the list\n",
    "# l2\n",
    "# l.count(1) returns the total count of particular element in a list\n",
    "# l.index(2) returns the index of a particular element\n",
    "l.insert(8,6)\n",
    "l.index(6)\n",
    "l.pop()\n",
    "l\n",
    "l.remove(1)\n",
    "l.remove(1)\n",
    "l.remove(2)\n",
    "l.remove(3)\n",
    "l"
   ]
  },
  {
   "cell_type": "code",
   "execution_count": 58,
   "metadata": {},
   "outputs": [
    {
     "data": {
      "text/plain": [
       "['suresh', 'kiran', 'raju']"
      ]
     },
     "execution_count": 58,
     "metadata": {},
     "output_type": "execute_result"
    }
   ],
   "source": [
    "# Remove an element based on the index\n",
    "\n",
    "l = ['rajesh','suresh','kiran','raju']\n",
    "# val = int(input('what index value you want to remove?'))\n",
    "# for i in range(len(l)-1):\n",
    "#     if val == i:\n",
    "#         l.remove(l[i])\n",
    "l.pop(0)\n",
    "l"
   ]
  },
  {
   "cell_type": "code",
   "execution_count": 59,
   "metadata": {},
   "outputs": [
    {
     "data": {
      "text/plain": [
       "['__class__',\n",
       " '__contains__',\n",
       " '__delattr__',\n",
       " '__delitem__',\n",
       " '__dir__',\n",
       " '__doc__',\n",
       " '__eq__',\n",
       " '__format__',\n",
       " '__ge__',\n",
       " '__getattribute__',\n",
       " '__getitem__',\n",
       " '__gt__',\n",
       " '__hash__',\n",
       " '__init__',\n",
       " '__init_subclass__',\n",
       " '__iter__',\n",
       " '__le__',\n",
       " '__len__',\n",
       " '__lt__',\n",
       " '__ne__',\n",
       " '__new__',\n",
       " '__reduce__',\n",
       " '__reduce_ex__',\n",
       " '__repr__',\n",
       " '__setattr__',\n",
       " '__setitem__',\n",
       " '__sizeof__',\n",
       " '__str__',\n",
       " '__subclasshook__',\n",
       " 'clear',\n",
       " 'copy',\n",
       " 'fromkeys',\n",
       " 'get',\n",
       " 'items',\n",
       " 'keys',\n",
       " 'pop',\n",
       " 'popitem',\n",
       " 'setdefault',\n",
       " 'update',\n",
       " 'values']"
      ]
     },
     "execution_count": 59,
     "metadata": {},
     "output_type": "execute_result"
    }
   ],
   "source": [
    "dir(dict)"
   ]
  },
  {
   "cell_type": "code",
   "execution_count": 60,
   "metadata": {},
   "outputs": [
    {
     "data": {
      "text/plain": [
       "{1: 23, 2: 24, 3: 25}"
      ]
     },
     "execution_count": 60,
     "metadata": {},
     "output_type": "execute_result"
    }
   ],
   "source": [
    "d={1:23,2:24,3:25}\n",
    "d"
   ]
  },
  {
   "cell_type": "code",
   "execution_count": 76,
   "metadata": {},
   "outputs": [
    {
     "data": {
      "text/plain": [
       "dict_values([24, 45])"
      ]
     },
     "execution_count": 76,
     "metadata": {},
     "output_type": "execute_result"
    }
   ],
   "source": [
    "# print(d.popitem())\n",
    "d.update({3:45})\n",
    "d.values()"
   ]
  },
  {
   "cell_type": "code",
   "execution_count": 114,
   "metadata": {},
   "outputs": [
    {
     "name": "stdout",
     "output_type": "stream",
     "text": [
      "hi :)\n"
     ]
    }
   ],
   "source": [
    "dic = {';)':'😊',':[':'💘'}\n",
    "n= input()\n",
    "for i in dic.items():\n",
    "    if d.items == i[0]:\n",
    "        print(n,i[1])\n",
    "        \n",
    "    "
   ]
  },
  {
   "cell_type": "code",
   "execution_count": 82,
   "metadata": {},
   "outputs": [
    {
     "name": "stdout",
     "output_type": "stream",
     "text": [
      "Raju\n"
     ]
    }
   ],
   "source": [
    "# Dictionaries\n",
    "\n",
    "sample ={'name':'Raju','age':23,'Profession':'Trainer'}\n",
    "print(sample['name'])"
   ]
  },
  {
   "cell_type": "code",
   "execution_count": 83,
   "metadata": {},
   "outputs": [
    {
     "data": {
      "text/plain": [
       "23"
      ]
     },
     "execution_count": 83,
     "metadata": {},
     "output_type": "execute_result"
    }
   ],
   "source": [
    "sample.get('age')"
   ]
  },
  {
   "cell_type": "code",
   "execution_count": 84,
   "metadata": {},
   "outputs": [
    {
     "data": {
      "text/plain": [
       "{'name': 'Raju', 'age': 25, 'Profession': 'Trainer'}"
      ]
     },
     "execution_count": 84,
     "metadata": {},
     "output_type": "execute_result"
    }
   ],
   "source": [
    "sample['age']=25\n",
    "sample"
   ]
  },
  {
   "cell_type": "code",
   "execution_count": 85,
   "metadata": {},
   "outputs": [
    {
     "data": {
      "text/plain": [
       "{'name': 'Somu', 'age': 25, 'Profession': 'Trainer'}"
      ]
     },
     "execution_count": 85,
     "metadata": {},
     "output_type": "execute_result"
    }
   ],
   "source": [
    "sample['name'] = 'Somu'\n",
    "sample"
   ]
  },
  {
   "cell_type": "code",
   "execution_count": 88,
   "metadata": {},
   "outputs": [
    {
     "name": "stdout",
     "output_type": "stream",
     "text": [
      "name\n",
      "age\n",
      "Profession\n"
     ]
    }
   ],
   "source": [
    "for i in sample:\n",
    "    print(i)"
   ]
  },
  {
   "cell_type": "code",
   "execution_count": 89,
   "metadata": {},
   "outputs": [
    {
     "name": "stdout",
     "output_type": "stream",
     "text": [
      "Somu\n",
      "25\n",
      "Trainer\n"
     ]
    }
   ],
   "source": [
    "for i in sample.values():\n",
    "    print(i)"
   ]
  },
  {
   "cell_type": "code",
   "execution_count": 90,
   "metadata": {},
   "outputs": [
    {
     "name": "stdout",
     "output_type": "stream",
     "text": [
      "name : Somu\n",
      "age : 25\n",
      "Profession : Trainer\n"
     ]
    }
   ],
   "source": [
    "for i,j in sample.items():\n",
    "    print(i,\":\",j)"
   ]
  },
  {
   "cell_type": "code",
   "execution_count": 92,
   "metadata": {},
   "outputs": [
    {
     "name": "stdout",
     "output_type": "stream",
     "text": [
      "name\n",
      "age\n",
      "Profession\n"
     ]
    }
   ],
   "source": [
    "for i in sample.items():\n",
    "    print(i[0])"
   ]
  },
  {
   "cell_type": "code",
   "execution_count": 94,
   "metadata": {},
   "outputs": [
    {
     "name": "stdout",
     "output_type": "stream",
     "text": [
      "raju\n"
     ]
    }
   ],
   "source": [
    "if 'name' in sample:\n",
    "    print(name)"
   ]
  },
  {
   "cell_type": "code",
   "execution_count": 96,
   "metadata": {},
   "outputs": [
    {
     "name": "stdout",
     "output_type": "stream",
     "text": [
      "its not in sample\n"
     ]
    }
   ],
   "source": [
    "if 'model' not in sample:\n",
    "    print(\"its not in sample\")"
   ]
  },
  {
   "cell_type": "code",
   "execution_count": 97,
   "metadata": {},
   "outputs": [
    {
     "data": {
      "text/plain": [
       "3"
      ]
     },
     "execution_count": 97,
     "metadata": {},
     "output_type": "execute_result"
    }
   ],
   "source": [
    "len(sample)"
   ]
  },
  {
   "cell_type": "code",
   "execution_count": 98,
   "metadata": {},
   "outputs": [
    {
     "data": {
      "text/plain": [
       "{'name': 'Somu', 'age': 25, 'Profession': 'Trainer', 'salary': 1000}"
      ]
     },
     "execution_count": 98,
     "metadata": {},
     "output_type": "execute_result"
    }
   ],
   "source": [
    "sample['salary'] = 1000\n",
    "sample"
   ]
  },
  {
   "cell_type": "code",
   "execution_count": 99,
   "metadata": {},
   "outputs": [
    {
     "data": {
      "text/plain": [
       "{'name': 'Somu', 'age': 25, 'salary': 1000}"
      ]
     },
     "execution_count": 99,
     "metadata": {},
     "output_type": "execute_result"
    }
   ],
   "source": [
    "sample.pop('Profession')\n",
    "sample"
   ]
  },
  {
   "cell_type": "code",
   "execution_count": 100,
   "metadata": {},
   "outputs": [
    {
     "data": {
      "text/plain": [
       "{'name': 'Somu', 'age': 25}"
      ]
     },
     "execution_count": 100,
     "metadata": {},
     "output_type": "execute_result"
    }
   ],
   "source": [
    "sample.popitem()\n",
    "sample"
   ]
  },
  {
   "cell_type": "code",
   "execution_count": 108,
   "metadata": {},
   "outputs": [
    {
     "data": {
      "text/plain": [
       "{}"
      ]
     },
     "execution_count": 108,
     "metadata": {},
     "output_type": "execute_result"
    }
   ],
   "source": [
    "sample.clear()\n",
    "sample"
   ]
  },
  {
   "cell_type": "code",
   "execution_count": 115,
   "metadata": {},
   "outputs": [
    {
     "ename": "TypeError",
     "evalue": "'dict' object is not callable",
     "output_type": "error",
     "traceback": [
      "\u001b[1;31m---------------------------------------------------------------------------\u001b[0m",
      "\u001b[1;31mTypeError\u001b[0m                                 Traceback (most recent call last)",
      "\u001b[1;32m<ipython-input-115-71cbd420269a>\u001b[0m in \u001b[0;36m<module>\u001b[1;34m\u001b[0m\n\u001b[1;32m----> 1\u001b[1;33m \u001b[0msample\u001b[0m \u001b[1;33m=\u001b[0m \u001b[0mdict\u001b[0m\u001b[1;33m(\u001b[0m\u001b[0mname\u001b[0m\u001b[1;33m=\u001b[0m\u001b[1;34m'Rajesh'\u001b[0m\u001b[1;33m,\u001b[0m\u001b[0mage\u001b[0m\u001b[1;33m=\u001b[0m\u001b[1;36m24\u001b[0m\u001b[1;33m,\u001b[0m\u001b[0mprofession\u001b[0m\u001b[1;33m=\u001b[0m\u001b[1;34m'Trainer'\u001b[0m\u001b[1;33m)\u001b[0m\u001b[1;33m\u001b[0m\u001b[1;33m\u001b[0m\u001b[0m\n\u001b[0m\u001b[0;32m      2\u001b[0m \u001b[0msample\u001b[0m\u001b[1;33m\u001b[0m\u001b[1;33m\u001b[0m\u001b[0m\n",
      "\u001b[1;31mTypeError\u001b[0m: 'dict' object is not callable"
     ]
    }
   ],
   "source": [
    "sample = dict(name='Rajesh',age=24,profession='Trainer')\n",
    "sample"
   ]
  },
  {
   "cell_type": "code",
   "execution_count": 113,
   "metadata": {},
   "outputs": [
    {
     "data": {
      "text/plain": [
       "{}"
      ]
     },
     "execution_count": 113,
     "metadata": {},
     "output_type": "execute_result"
    }
   ],
   "source": [
    "sample"
   ]
  },
  {
   "cell_type": "code",
   "execution_count": 28,
   "metadata": {},
   "outputs": [
    {
     "name": "stdout",
     "output_type": "stream",
     "text": [
      "raju\n",
      "34\n",
      "kiran\n",
      "35\n",
      "somu\n",
      "67\n",
      "[67, 35, 34]\n"
     ]
    }
   ],
   "source": [
    "# Read all the individual scores of 10 sports persons and display\n",
    "# the winner name use dictionaries for this problem\n",
    "\n",
    "sports = {}\n",
    "# Read Scores and sportspersons names\n",
    "for i in range(3):\n",
    "    name = input()\n",
    "    score = int(input())\n",
    "    sports[name] = score\n",
    "\n",
    "max_score = max(sports.values())\n",
    "# max_score = sorted(sports.values(),reverse=True)\n",
    "for i,j in sports.items():\n",
    "    if i[1] == max_score:\n",
    "        print(j,\"-\",i[0])\n",
    "# print(sports)\n",
    "print(max_score)\n"
   ]
  },
  {
   "cell_type": "code",
   "execution_count": 50,
   "metadata": {},
   "outputs": [
    {
     "name": "stdout",
     "output_type": "stream",
     "text": [
      "raju\n",
      "45\n",
      "somu\n",
      "5\n",
      "kiran\n",
      "88\n",
      "kiran 1\n",
      "raju 2\n",
      "somu 3\n"
     ]
    }
   ],
   "source": [
    "# Read all the individual scores of the batsmen\n",
    "# and print their rankings based on the scores\n",
    "# raju 10\n",
    "# somu 11\n",
    "# kiran 12\n",
    "# rajesh 9\n",
    "# dinesh 3\n",
    "\n",
    "# 1 - kiran\n",
    "# 2 - somu\n",
    "# 3 - raju\n",
    "# 4 - rajesh\n",
    "# 5 - dinesh\n",
    "d={}\n",
    "for i in range(3):\n",
    "    name = input()\n",
    "    score = int(input())\n",
    "    d[name] = score\n",
    "\n",
    "l=d.values()\n",
    "rank=1\n",
    "l=sorted(l,reverse=True)\n",
    "\n",
    "for i in l:\n",
    "    for j in d.items():\n",
    "        if i == j[1]:\n",
    "            print(j[0],rank)\n",
    "            rank+=1\n",
    "    i+=1\n",
    "\n"
   ]
  },
  {
   "cell_type": "code",
   "execution_count": 30,
   "metadata": {},
   "outputs": [
    {
     "name": "stdout",
     "output_type": "stream",
     "text": [
      "7\n",
      "Weird\n"
     ]
    }
   ],
   "source": [
    "# Given an integer, ’n’ , perform the following conditional actions:\n",
    "# If ‘n’  is odd, print Weird\n",
    "# If  ‘n’ is even and in the inclusive range of 2 to 5, print Not Weird\n",
    "# If  ‘n’ is even and in the inclusive range of 6 to 20 , print Weird\n",
    "# If  ‘n’ is even and greater than 20, print Not Weird\n",
    "\n",
    "\n",
    "n=int(input())\n",
    "if n%2 !=0:\n",
    "    print(\"Weird\")\n",
    "else:\n",
    "    if n>=2 and n<=5:\n",
    "        print(\"Not Weird\")\n",
    "    elif n>=6 and n<=20:\n",
    "        print(\"Weird\")\n",
    "    else:\n",
    "        print(\"Not Weird\")"
   ]
  },
  {
   "cell_type": "code",
   "execution_count": null,
   "metadata": {},
   "outputs": [],
   "source": [
    "# A - 1\n",
    "# B - 2\n",
    "# C - 3\n",
    "\n",
    "# Given a string in capital letters\n",
    "# Convert it into Numerical Format\n",
    "\n"
   ]
  },
  {
   "cell_type": "code",
   "execution_count": 44,
   "metadata": {},
   "outputs": [
    {
     "name": "stdout",
     "output_type": "stream",
     "text": [
      "10\n",
      "15\n",
      "2\n"
     ]
    }
   ],
   "source": [
    "# Given a factors for 2 numbers\n",
    "\n",
    "n1=int(input())\n",
    "n2=int(input())\n",
    "temp=n1\n",
    "# if n1>n2:\n",
    "#     temp=n2\n",
    "temp=min(n1,n2)\n",
    "count=0\n",
    "for i in range(1,temp):\n",
    "    if n1%i==0 and n2%i==0:\n",
    "#         print(i)\n",
    "        count+=1\n",
    "print(count)"
   ]
  },
  {
   "cell_type": "code",
   "execution_count": null,
   "metadata": {},
   "outputs": [],
   "source": [
    "# Find highest Frequent element in the list\n",
    "[1,1,1,1,2,3,1,2,3,1,2,2,2,3,3]\n",
    "\n",
    "1\n",
    "\n",
    "# Find the second highest Frequent element in the list\n",
    "[1,1,1,1,2,3,1,2,3,1,2,2,2,3,3]\n",
    "2\n",
    "\n",
    "# Find the Kth highest Frequent element in the list\n",
    "[1,1,1,1,2,3,1,2,3,1,2,2,2,3,3]\n",
    "\n",
    "\n"
   ]
  },
  {
   "cell_type": "code",
   "execution_count": 73,
   "metadata": {},
   "outputs": [
    {
     "name": "stdout",
     "output_type": "stream",
     "text": [
      "10\n",
      "-19\n",
      "9\n"
     ]
    }
   ],
   "source": [
    "# Find the absolute difference of two numbers\n",
    "# without using abs function\n",
    "# abs(10-19)\n",
    "# 9\n",
    "def aaa(l):\n",
    "    if l<=0:\n",
    "        print(l*(-1))\n",
    "    else:\n",
    "        print(l)\n",
    "n=int(input())\n",
    "n1=int(input())\n",
    "if n>n1:\n",
    "    k=n1-(-n)\n",
    "else:\n",
    "    k=n-(-n1)\n",
    "# print(k)\n",
    "aaa(k)\n",
    "\n",
    "\n"
   ]
  },
  {
   "cell_type": "code",
   "execution_count": 75,
   "metadata": {},
   "outputs": [
    {
     "data": {
      "text/plain": [
       "9"
      ]
     },
     "execution_count": 75,
     "metadata": {},
     "output_type": "execute_result"
    }
   ],
   "source": [
    "abs(10-19)"
   ]
  },
  {
   "cell_type": "code",
   "execution_count": 130,
   "metadata": {},
   "outputs": [
    {
     "name": "stdout",
     "output_type": "stream",
     "text": [
      "{1: 6, 2: 5, 3: 4}\n"
     ]
    },
    {
     "data": {
      "text/plain": [
       "1"
      ]
     },
     "execution_count": 130,
     "metadata": {},
     "output_type": "execute_result"
    }
   ],
   "source": [
    "# Find highest Frequent element in the list\n",
    "# [1,1,1,1,2,3,1,2,3,1,2,2,2,3,3]\n",
    "\n",
    "# 1\n",
    "\n",
    "def highestfreq(l):\n",
    "    unique={}\n",
    "    for i in l:\n",
    "        if i in unique:\n",
    "            unique[i]+=1\n",
    "        else:\n",
    "            unique[i]=1\n",
    "    print(unique)\n",
    "    maxfreq=sorted(unique.values(),reverse=True)[0]\n",
    "    maxfreqkeys = []\n",
    "    for i in unique.items():\n",
    "        if i[1] == maxfreq:\n",
    "            maxfreqkeys.append(i[0])\n",
    "    return min(maxfreqkeys)\n",
    "\n",
    "highestfreq([1,1,1,1,2,3,1,2,3,1,2,2,2,3,3])\n",
    "            "
   ]
  },
  {
   "cell_type": "code",
   "execution_count": 133,
   "metadata": {},
   "outputs": [
    {
     "name": "stdout",
     "output_type": "stream",
     "text": [
      "{1: 6, 2: 5, 3: 4}\n",
      "[2]\n"
     ]
    },
    {
     "data": {
      "text/plain": [
       "2"
      ]
     },
     "execution_count": 133,
     "metadata": {},
     "output_type": "execute_result"
    }
   ],
   "source": [
    "# Find the second highest Frequent element in the list\n",
    "# [1,1,1,1,2,3,1,2,3,1,2,2,2,3,3]\n",
    "# 2\n",
    "\n",
    "def secondLargestfreq(l):\n",
    "    unique={}\n",
    "    for i in l:\n",
    "        if i in unique:\n",
    "            unique[i]+=1\n",
    "        else:\n",
    "            unique[i]=1\n",
    "    print(unique)\n",
    "    maxf=list(set(unique.values()))\n",
    "    maxf=sorted(maxf)[::-1]\n",
    "    maxfreq=maxf[len(maxf)-2]\n",
    "    maxfreqkeys = []\n",
    "    for i in unique.items():\n",
    "        if i[1] == maxfreq:\n",
    "            maxfreqkeys.append(i[0])\n",
    "    return min(maxfreqkeys)\n",
    "\n",
    "secondLargestfreq([1,1,1,1,2,3,1,2,3,1,2,2,2,3,3])"
   ]
  },
  {
   "cell_type": "code",
   "execution_count": 149,
   "metadata": {},
   "outputs": [
    {
     "name": "stdout",
     "output_type": "stream",
     "text": [
      "{1: 6, 2: 5, 3: 4}\n",
      "[4, 5, 6]\n",
      "[6, 5, 4]\n",
      "5\n"
     ]
    },
    {
     "data": {
      "text/plain": [
       "2"
      ]
     },
     "execution_count": 149,
     "metadata": {},
     "output_type": "execute_result"
    }
   ],
   "source": [
    "\n",
    "# Find the Kth highest Frequent element in the list\n",
    "# [1,1,1,1,2,3,1,2,3,1,2,2,2,3,3]\n",
    "\n",
    "def kthLargestFreq(l,k):\n",
    "    unique={}\n",
    "    for i in l:\n",
    "        if i in unique:\n",
    "            unique[i]+=1\n",
    "        else:\n",
    "            unique[i]=1\n",
    "    print(unique)\n",
    "    maxf=list(set(unique.values()))\n",
    "    print(maxf)\n",
    "    maxf=sorted(maxf,reverse=True)\n",
    "    print(maxf)\n",
    "    if len(maxf) >= k:\n",
    "        maxf=maxf[k-1]\n",
    "        print(maxf)\n",
    "        maxfreq=[]\n",
    "        for i in unique.items():\n",
    "            if i[1]==maxf:\n",
    "                maxfreq.append(i[0])\n",
    "        return min(maxfreq)\n",
    "    else:\n",
    "        return -1\n",
    "            \n",
    "\n",
    "kthLargestFreq([1,1,1,1,2,3,1,2,3,1,2,2,2,3,3],2)"
   ]
  },
  {
   "cell_type": "code",
   "execution_count": 156,
   "metadata": {},
   "outputs": [
    {
     "data": {
      "text/plain": [
       "{1: 6, 2: 5, 3: 4}"
      ]
     },
     "execution_count": 156,
     "metadata": {},
     "output_type": "execute_result"
    }
   ],
   "source": [
    "#Highest element Frequency \n",
    "\n",
    "\n",
    "def highest(l):\n",
    "    d={}\n",
    "    for i in l:\n",
    "        count = l.count(i)\n",
    "        if i not in d:\n",
    "            d[i]=count\n",
    "    return d\n",
    "\n",
    "highest([1,1,1,1,2,3,1,2,3,1,2,2,2,3,3])\n"
   ]
  },
  {
   "cell_type": "code",
   "execution_count": 6,
   "metadata": {},
   "outputs": [
    {
     "name": "stdout",
     "output_type": "stream",
     "text": [
      "3\n",
      "google.com\n",
      "facebook.in\n",
      "github.com\n",
      "['com', '.in', 'com']\n",
      "0\n",
      "0\n",
      "0\n"
     ]
    }
   ],
   "source": [
    "n=int(input())\n",
    "l=[]\n",
    "for i in range(1,n+1):\n",
    "    s= input()\n",
    "    k=len(s)\n",
    "    m=s[k-3:]\n",
    "    l.append(m)\n",
    "print(l)\n",
    "for i in range(len(l)):\n",
    "    count = l.count(i)\n",
    "    print(count)"
   ]
  },
  {
   "cell_type": "code",
   "execution_count": 3,
   "metadata": {},
   "outputs": [
    {
     "name": "stdout",
     "output_type": "stream",
     "text": [
      "32\n",
      "32 76\n",
      "32 76 42\n",
      "32 76 42 11\n",
      "32 76 42 23\n",
      "32 76 42 80\n",
      "32 76 42 80 EXIT\n",
      "80\n"
     ]
    }
   ],
   "source": [
    "l=[]\n",
    "while True:\n",
    "    n=input()\n",
    "    if n == 'EXIT':\n",
    "        break\n",
    "    else:\n",
    "        if int(n)%2==0:\n",
    "            l.append(n)\n",
    "    for i in range(len(l)):\n",
    "        print(l[i],end=\" \")\n",
    "print(max(l))"
   ]
  },
  {
   "cell_type": "code",
   "execution_count": 9,
   "metadata": {},
   "outputs": [
    {
     "name": "stdout",
     "output_type": "stream",
     "text": [
      "3\n",
      "google.com\n",
      "hackerrank.com\n",
      "linkedin.in\n",
      "com\n"
     ]
    }
   ],
   "source": [
    "n = int(input())\n",
    "d={}\n",
    "for i in range(n):\n",
    "    s = input().split(\".\")\n",
    "#     print(s)\n",
    "    domain = s[-1]\n",
    "    if domain not in d:\n",
    "        d[domain] =1\n",
    "    else:\n",
    "        d[domain]+=1\n",
    "m = max(d.values())\n",
    "for i in d.items():\n",
    "    if i[1] == m:\n",
    "        print(i[0])\n",
    "# print(d)"
   ]
  },
  {
   "cell_type": "code",
   "execution_count": null,
   "metadata": {},
   "outputs": [],
   "source": []
  }
 ],
 "metadata": {
  "kernelspec": {
   "display_name": "Python 3",
   "language": "python",
   "name": "python3"
  },
  "language_info": {
   "codemirror_mode": {
    "name": "ipython",
    "version": 3
   },
   "file_extension": ".py",
   "mimetype": "text/x-python",
   "name": "python",
   "nbconvert_exporter": "python",
   "pygments_lexer": "ipython3",
   "version": "3.7.3"
  }
 },
 "nbformat": 4,
 "nbformat_minor": 2
}
