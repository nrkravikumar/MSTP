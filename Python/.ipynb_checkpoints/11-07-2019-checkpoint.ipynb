{
 "cells": [
  {
   "cell_type": "code",
   "execution_count": 14,
   "metadata": {},
   "outputs": [
    {
     "name": "stdout",
     "output_type": "stream",
     "text": [
      "1\n",
      "239470176487136095829475\n",
      "True\n"
     ]
    }
   ],
   "source": [
    "# Palinalign\n",
    "n= int(input())\n",
    "for i in range(n):\n",
    "    num = input()\n",
    "    l=[]\n",
    "    for j in num:\n",
    "        k = int(j)\n",
    "        if k not in l:\n",
    "            l.append(k)\n",
    "    if len(l) == 10:\n",
    "        print(True)\n",
    "    else:\n",
    "        print(False)\n",
    "        "
   ]
  },
  {
   "cell_type": "code",
   "execution_count": 11,
   "metadata": {},
   "outputs": [
    {
     "name": "stdout",
     "output_type": "stream",
     "text": [
      "1\n",
      "234234927489107496192408\n",
      "False\n"
     ]
    }
   ],
   "source": [
    "# Palinalign second procedure\n",
    "n= int(input())\n",
    "for i in range(n):\n",
    "    num = input()\n",
    "    num=set(num)\n",
    "    if len(num) == 10:\n",
    "        print(\"True\")\n",
    "    else:\n",
    "        print(\"False\")"
   ]
  },
  {
   "cell_type": "code",
   "execution_count": 9,
   "metadata": {},
   "outputs": [
    {
     "name": "stdout",
     "output_type": "stream",
     "text": [
      "1\n",
      "AbC\n",
      "BcD\n"
     ]
    }
   ],
   "source": [
    "#intruder cipher conversion\n",
    "\n",
    "n = int(input())\n",
    "for i in range(n):\n",
    "    s = input()\n",
    "    line =\"\"\n",
    "    for j in s:\n",
    "        if ((ord(j) < ord('z') and ord(j) >= ord('a')) or (ord(j)<ord('Z') and ord(j)>=ord('A'))):\n",
    "            line += chr(ord(j)+1)\n",
    "        else:\n",
    "            line+=j\n",
    "    \n",
    "    print(line)"
   ]
  },
  {
   "cell_type": "code",
   "execution_count": 54,
   "metadata": {},
   "outputs": [
    {
     "name": "stdout",
     "output_type": "stream",
     "text": [
      "1\n",
      "-5 10 -9 20 -66 -3 33\n",
      "20\n"
     ]
    }
   ],
   "source": [
    "#Additive inverse\n",
    "n= int(input())\n",
    "for i in range(n):\n",
    "    s=0\n",
    "    l=input().split()\n",
    "    for j in l:\n",
    "        s+=(int(j)*-1)\n",
    "    print(s)"
   ]
  },
  {
   "cell_type": "code",
   "execution_count": 15,
   "metadata": {},
   "outputs": [
    {
     "data": {
      "text/plain": [
       "{1, 2, 3, 4, 5, 6, 7, 8, 9, 45, 646}"
      ]
     },
     "execution_count": 15,
     "metadata": {},
     "output_type": "execute_result"
    }
   ],
   "source": [
    "#Sets:\n",
    "# Set is unordered \n",
    "\n",
    "l = {1,2,3,4,5,6,7,8,9,1,2,3,3,3,45,3,646}\n",
    "l"
   ]
  },
  {
   "cell_type": "code",
   "execution_count": 20,
   "metadata": {},
   "outputs": [
    {
     "name": "stdout",
     "output_type": "stream",
     "text": [
      "{5, 6, 7, 8, 9, 646, 45}\n"
     ]
    }
   ],
   "source": [
    "l = {1,2,3,4,5,6,7,8,9,1,2,3,3,3,45,3,646}\n",
    "m={20,30,40,50,1,2,3,4}\n",
    "print(l.difference(m))"
   ]
  },
  {
   "cell_type": "code",
   "execution_count": 17,
   "metadata": {},
   "outputs": [
    {
     "data": {
      "text/plain": [
       "{1, 2, 3, 4, 7}"
      ]
     },
     "execution_count": 17,
     "metadata": {},
     "output_type": "execute_result"
    }
   ],
   "source": [
    "l = {1,2,3,4}\n",
    "l.add(7)\n",
    "l"
   ]
  },
  {
   "cell_type": "code",
   "execution_count": 21,
   "metadata": {},
   "outputs": [
    {
     "data": {
      "text/plain": [
       "{1, 2, 3, 4, 5, 6, 7, 8, 9, 45, 646}"
      ]
     },
     "execution_count": 21,
     "metadata": {},
     "output_type": "execute_result"
    }
   ],
   "source": [
    "l"
   ]
  },
  {
   "cell_type": "code",
   "execution_count": 22,
   "metadata": {},
   "outputs": [
    {
     "data": {
      "text/plain": [
       "{1, 2, 3, 4, 20, 30, 40, 50}"
      ]
     },
     "execution_count": 22,
     "metadata": {},
     "output_type": "execute_result"
    }
   ],
   "source": [
    "m"
   ]
  },
  {
   "cell_type": "code",
   "execution_count": 23,
   "metadata": {},
   "outputs": [
    {
     "data": {
      "text/plain": [
       "{5, 6, 7, 8, 9, 45, 646}"
      ]
     },
     "execution_count": 23,
     "metadata": {},
     "output_type": "execute_result"
    }
   ],
   "source": [
    "l.difference_update(m)\n",
    "l"
   ]
  },
  {
   "cell_type": "code",
   "execution_count": 26,
   "metadata": {},
   "outputs": [
    {
     "data": {
      "text/plain": [
       "{6, 7, 8, 9, 45}"
      ]
     },
     "execution_count": 26,
     "metadata": {},
     "output_type": "execute_result"
    }
   ],
   "source": [
    "l.discard(646)\n",
    "l"
   ]
  },
  {
   "cell_type": "code",
   "execution_count": 29,
   "metadata": {},
   "outputs": [
    {
     "data": {
      "text/plain": [
       "{6, 7, 8, 9, 45}"
      ]
     },
     "execution_count": 29,
     "metadata": {},
     "output_type": "execute_result"
    }
   ],
   "source": [
    "l.intersection(m)\n",
    "l"
   ]
  },
  {
   "cell_type": "code",
   "execution_count": 34,
   "metadata": {},
   "outputs": [
    {
     "data": {
      "text/plain": [
       "{1, 2, 3, 4, 5}"
      ]
     },
     "execution_count": 34,
     "metadata": {},
     "output_type": "execute_result"
    }
   ],
   "source": [
    "l={1,2,3,4,5}\n",
    "l"
   ]
  },
  {
   "cell_type": "code",
   "execution_count": 40,
   "metadata": {},
   "outputs": [
    {
     "data": {
      "text/plain": [
       "{1, 2, 3, 4, 5, 20, 30, 40, 50}"
      ]
     },
     "execution_count": 40,
     "metadata": {},
     "output_type": "execute_result"
    }
   ],
   "source": [
    "l.union(m)"
   ]
  },
  {
   "cell_type": "code",
   "execution_count": 36,
   "metadata": {},
   "outputs": [
    {
     "data": {
      "text/plain": [
       "{1, 2, 3, 4, 5}"
      ]
     },
     "execution_count": 36,
     "metadata": {},
     "output_type": "execute_result"
    }
   ],
   "source": [
    "l"
   ]
  },
  {
   "cell_type": "code",
   "execution_count": 37,
   "metadata": {},
   "outputs": [
    {
     "data": {
      "text/plain": [
       "{1, 2, 3, 4, 20, 30, 40, 50}"
      ]
     },
     "execution_count": 37,
     "metadata": {},
     "output_type": "execute_result"
    }
   ],
   "source": [
    "m"
   ]
  },
  {
   "cell_type": "code",
   "execution_count": 41,
   "metadata": {},
   "outputs": [
    {
     "data": {
      "text/plain": [
       "{'Apple', 'Biscuit', 'Wool', 'Zebra'}"
      ]
     },
     "execution_count": 41,
     "metadata": {},
     "output_type": "execute_result"
    }
   ],
   "source": [
    "a = {'Zebra','Wool','Apple','Biscuit'}\n",
    "a"
   ]
  },
  {
   "cell_type": "code",
   "execution_count": 42,
   "metadata": {},
   "outputs": [
    {
     "data": {
      "text/plain": [
       "{1, 2, 4, 5, 11, 89}"
      ]
     },
     "execution_count": 42,
     "metadata": {},
     "output_type": "execute_result"
    }
   ],
   "source": [
    "b={5,4,1,2,89,11}\n",
    "b"
   ]
  },
  {
   "cell_type": "code",
   "execution_count": 43,
   "metadata": {},
   "outputs": [
    {
     "data": {
      "text/plain": [
       "{'Aeroplane', 'Air', 'Arrow'}"
      ]
     },
     "execution_count": 43,
     "metadata": {},
     "output_type": "execute_result"
    }
   ],
   "source": [
    "a={'Arrow','Aeroplane','Air'}\n",
    "a"
   ]
  },
  {
   "cell_type": "code",
   "execution_count": 45,
   "metadata": {},
   "outputs": [],
   "source": [
    "l = {1,2,3,4}\n",
    "m={1,2,20,30}\n",
    "l.intersection_update(m)"
   ]
  },
  {
   "cell_type": "code",
   "execution_count": 49,
   "metadata": {},
   "outputs": [
    {
     "data": {
      "text/plain": [
       "{1, 2}"
      ]
     },
     "execution_count": 49,
     "metadata": {},
     "output_type": "execute_result"
    }
   ],
   "source": [
    "l"
   ]
  },
  {
   "cell_type": "code",
   "execution_count": 51,
   "metadata": {},
   "outputs": [
    {
     "name": "stdout",
     "output_type": "stream",
     "text": [
      "1 2 "
     ]
    }
   ],
   "source": [
    "for i in  l:\n",
    "    print(i,end=\" \")"
   ]
  },
  {
   "cell_type": "code",
   "execution_count": 60,
   "metadata": {},
   "outputs": [
    {
     "name": "stdout",
     "output_type": "stream",
     "text": [
      "ABCDCDC\n",
      "CDC\n",
      "0\n",
      "0\n",
      "0\n",
      "0\n",
      "0\n",
      "0\n",
      "0\n"
     ]
    }
   ],
   "source": [
    "s=input()\n",
    "ss=input()\n",
    "k=0\n",
    "for i in range(len(s)):\n",
    "    k+=s.count(ss)\n",
    "    print(k)"
   ]
  },
  {
   "cell_type": "code",
   "execution_count": 62,
   "metadata": {},
   "outputs": [
    {
     "name": "stdout",
     "output_type": "stream",
     "text": [
      "HackerRank----------\n"
     ]
    }
   ],
   "source": [
    "width=20\n",
    "print('HackerRank'.ljust(width,'-'))"
   ]
  },
  {
   "cell_type": "code",
   "execution_count": 107,
   "metadata": {},
   "outputs": [
    {
     "name": "stdout",
     "output_type": "stream",
     "text": [
      "afSKXHVyAILCGADCIlSHDGC\n",
      "4\n",
      "['afSK ', 'afSK ', 'afSK ', 'afSK ', 'afSK ', 'afSK ', 'afSK ', 'afSK ', 'afSK ', 'afSK ', 'afSK ', 'afSK ', 'afSK ', 'afSK ', 'afSK ', 'afSK ', 'afSK ', 'afSK ', 'afSK ', 'afSK ', 'afSK ', 'afSK ', 'afSK ']\n"
     ]
    }
   ],
   "source": [
    "s=input()\n",
    "ss=len(s)\n",
    "m=int(input())\n",
    "l=[]\n",
    "for i in s:\n",
    "    k=\"\"\n",
    "    k=s.split(s[m:])\n",
    "    k=\" \".join(k)\n",
    "    l.append(k)\n",
    "print(l)"
   ]
  },
  {
   "cell_type": "code",
   "execution_count": 140,
   "metadata": {},
   "outputs": [
    {
     "name": "stdout",
     "output_type": "stream",
     "text": [
      "2\n"
     ]
    }
   ],
   "source": [
    "def readFile(fp):\n",
    "    with open(fp,'r') as f:\n",
    "        k=f.read()\n",
    "        print(k)\n",
    "    return\n",
    "\n",
    "def writeFile(fp,n):\n",
    "    with open(fp,'w') as f:\n",
    "        f.write(n)\n",
    "    return\n",
    "\n",
    "def appendFile(fp,n):\n",
    "    with open(fp,'a+') as f:\n",
    "        f.writelines(\"\\n\"+n)\n",
    "    return\n",
    "def readlines(fp):\n",
    "    with open(fp) as f:\n",
    "        line=0\n",
    "        for i in f:\n",
    "            line+=1\n",
    "        print(line)\n",
    "\n",
    "fp = '../DataFile/input2.txt'\n",
    "# n1=input()\n",
    "# writeFile(fp,n1)\n",
    "# readFile(fp)\n",
    "# n2=input()\n",
    "# appendFile(fp,n2)\n",
    "# readFile(fp)\n",
    "readlines(fp)"
   ]
  },
  {
   "cell_type": "code",
   "execution_count": 144,
   "metadata": {},
   "outputs": [
    {
     "name": "stdout",
     "output_type": "stream",
     "text": [
      "hi welcome sad need dad\n",
      "hi\n",
      "welcome\n",
      "sad\n",
      "need\n",
      "dad\n",
      "5\n"
     ]
    }
   ],
   "source": [
    "def writeFile(fp,n):\n",
    "    with open(fp,'w') as fh:\n",
    "        fh.write(n)\n",
    "    return\n",
    "\n",
    "def splitline(fp):\n",
    "    with open(fp,'r') as fh:\n",
    "        for i in fh:\n",
    "            i=i.split()\n",
    "            for w in i:\n",
    "                print(w)\n",
    "    return\n",
    "\n",
    "def noLines(fp):\n",
    "    with open(fp,'r') as fh:\n",
    "        count=0\n",
    "        for i in fh:\n",
    "            i=i.split()\n",
    "            count+=len(i)\n",
    "        print(count)\n",
    "    return\n",
    "\n",
    "fp = \"../DataFile/input3.txt\"\n",
    "n=input()\n",
    "writeFile(fp,n)\n",
    "splitline(fp)\n",
    "noLines(fp)"
   ]
  },
  {
   "cell_type": "code",
   "execution_count": 157,
   "metadata": {},
   "outputs": [
    {
     "name": "stdout",
     "output_type": "stream",
     "text": [
      "sjdnfkjsbdfhsdf\n",
      "\n"
     ]
    }
   ],
   "source": [
    "filepath = \"../DataFile/input4.txt\"\n",
    "file = open(filepath,'a+')\n",
    "n=input()\n",
    "file.writelines(n)\n",
    "print(file.read())\n",
    "    "
   ]
  },
  {
   "cell_type": "code",
   "execution_count": 184,
   "metadata": {},
   "outputs": [
    {
     "ename": "SyntaxError",
     "evalue": "unexpected EOF while parsing (<ipython-input-184-a7da09266ca1>, line 3)",
     "output_type": "error",
     "traceback": [
      "\u001b[1;36m  File \u001b[1;32m\"<ipython-input-184-a7da09266ca1>\"\u001b[1;36m, line \u001b[1;32m3\u001b[0m\n\u001b[1;33m    s.index(len(s[:3])\u001b[0m\n\u001b[1;37m                      ^\u001b[0m\n\u001b[1;31mSyntaxError\u001b[0m\u001b[1;31m:\u001b[0m unexpected EOF while parsing\n"
     ]
    }
   ],
   "source": [
    "s=\"jkasdhncjbszjbcjblhszdc\"\n",
    "s=s.split()\n"
   ]
  },
  {
   "cell_type": "code",
   "execution_count": null,
   "metadata": {},
   "outputs": [],
   "source": []
  }
 ],
 "metadata": {
  "kernelspec": {
   "display_name": "Python 3",
   "language": "python",
   "name": "python3"
  },
  "language_info": {
   "codemirror_mode": {
    "name": "ipython",
    "version": 3
   },
   "file_extension": ".py",
   "mimetype": "text/x-python",
   "name": "python",
   "nbconvert_exporter": "python",
   "pygments_lexer": "ipython3",
   "version": "3.7.3"
  }
 },
 "nbformat": 4,
 "nbformat_minor": 2
}
