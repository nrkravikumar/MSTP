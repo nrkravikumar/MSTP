{
 "cells": [
  {
   "cell_type": "code",
   "execution_count": 26,
   "metadata": {},
   "outputs": [
    {
     "name": "stdout",
     "output_type": "stream",
     "text": [
      "1 200\n",
      "6 12 18 24 30 36 42 48 54 60 66 72 78 84 90 96 102 108 114 120 126 132 138 144 150 156 162 168 174 180 186 192 198 "
     ]
    }
   ],
   "source": [
    "#Function to print all numbers divisible by 6 and not a factor of 100 in a given range(lb, ub) inclusive\n",
    "\n",
    "\n",
    "def divisible(lb,up):\n",
    "    for i in range(lb,up+1):\n",
    "        if i%6==0 and 100%i!=0:\n",
    "            print(i,end=\" \")\n",
    "    return\n",
    "    \n",
    "lb,up = input().split()\n",
    "divisible(int(lb),int(up))\n"
   ]
  },
  {
   "cell_type": "code",
   "execution_count": 29,
   "metadata": {},
   "outputs": [
    {
     "name": "stdout",
     "output_type": "stream",
     "text": [
      "1 6\n",
      "96\n"
     ]
    }
   ],
   "source": [
    "#Function to find the average of cubes of all even numbers in a given range(lb, ub) inclusive\n",
    "\n",
    "def cubes(lb,ub):\n",
    "    sum = k = m = 0\n",
    "    for i in range(lb,ub+1):\n",
    "        if i%2==0:\n",
    "            k = i**3\n",
    "            sum=sum + k\n",
    "            m = m + 1\n",
    "    print(sum//m)\n",
    "    \n",
    "lb,ub = input().split()\n",
    "cubes(int(lb),int(ub)) "
   ]
  },
  {
   "cell_type": "code",
   "execution_count": 34,
   "metadata": {},
   "outputs": [
    {
     "name": "stdout",
     "output_type": "stream",
     "text": [
      "100\n",
      "1 2 4 5 10 20 25 50 100 "
     ]
    }
   ],
   "source": [
    "#Function to generate the list of factors for a given number\n",
    "\n",
    "\n",
    "def factors(n):\n",
    "    for i in range(1,n+1):\n",
    "        if n%i==0:\n",
    "            print(i,end=\" \")\n",
    "    return\n",
    "\n",
    "n = int(input())\n",
    "factors(n)"
   ]
  },
  {
   "cell_type": "code",
   "execution_count": 36,
   "metadata": {},
   "outputs": [
    {
     "name": "stdout",
     "output_type": "stream",
     "text": [
      "6\n",
      "720\n"
     ]
    }
   ],
   "source": [
    "#Function to calculate the factorial of a given number\n",
    "\n",
    "def factorial(n):\n",
    "    fact = 1\n",
    "    for i in range(1,n+1):\n",
    "        fact = fact * i\n",
    "    print(fact)\n",
    "    return\n",
    "\n",
    "n = int(input())\n",
    "factorial(n)"
   ]
  },
  {
   "cell_type": "code",
   "execution_count": 28,
   "metadata": {},
   "outputs": [
    {
     "name": "stdout",
     "output_type": "stream",
     "text": [
      "5\n",
      "True\n"
     ]
    }
   ],
   "source": [
    "#Function to check if a given number is Prime\n",
    "\n",
    "def isPrime(n):\n",
    "    count = 0\n",
    "    for i in range(1,n+1):\n",
    "        if n%i==0:\n",
    "            count = count + 1    \n",
    "    if count == 2:\n",
    "        print(\"True\")\n",
    "    else:\n",
    "        print(\"False\")\n",
    "\n",
    "    \n",
    "n = int(input())\n",
    "isPrime(n)\n",
    "\n"
   ]
  },
  {
   "cell_type": "code",
   "execution_count": null,
   "metadata": {},
   "outputs": [],
   "source": [
    "#Function to calculate the average first N Prime numbers\n",
    "\n",
    "def firstfive(n):\n",
    "    sum=c=0\n",
    "    for i in range(1,n+1):\n",
    "        if isPrime(i):\n",
    "            sum=sum+i\n",
    "            c=c+1\n",
    "    print(sum//c)\n",
    "    \n",
    "n = input()\n",
    "firstfive(int(n))"
   ]
  },
  {
   "cell_type": "code",
   "execution_count": 7,
   "metadata": {},
   "outputs": [
    {
     "name": "stdout",
     "output_type": "stream",
     "text": [
      "1000\n",
      "6 28 496 "
     ]
    }
   ],
   "source": [
    "#Function to generate all Perfect numbers in a given range\n",
    "\n",
    "def isperfect(n):\n",
    "    sum=0\n",
    "    for j in range(1,n):\n",
    "        if n%j==0:\n",
    "            sum+=j\n",
    "    if sum==n:\n",
    "        return True\n",
    "    else:\n",
    "        return False\n",
    "\n",
    "def generateperfect(ub):\n",
    "    for i in range(1,ub+1):\n",
    "        if isperfect(i):\n",
    "            print(i,end=\" \")\n",
    "    return\n",
    "n = int(input())\n",
    "generateperfect(n)"
   ]
  },
  {
   "cell_type": "code",
   "execution_count": 38,
   "metadata": {},
   "outputs": [
    {
     "name": "stdout",
     "output_type": "stream",
     "text": [
      "6\n",
      "145.5\n"
     ]
    }
   ],
   "source": [
    "#Function to calculate the average of all factorials in a given range\n",
    "def avgFact(n):\n",
    "    fact=1\n",
    "    sum=co=0\n",
    "    for i in range(1,n+1):\n",
    "        fact *=i\n",
    "        sum +=fact\n",
    "        co +=1\n",
    "    print(sum/co)\n",
    "    \n",
    "n=int(input())\n",
    "avgFact(n)"
   ]
  },
  {
   "cell_type": "code",
   "execution_count": 39,
   "metadata": {},
   "outputs": [
    {
     "name": "stdout",
     "output_type": "stream",
     "text": [
      "10 * 100 = 1000\n",
      "10 * 101 = 1010\n",
      "10 * 102 = 1020\n"
     ]
    }
   ],
   "source": [
    "# Function to generate Multiplication table for a number in a given range\n",
    "# 10 in the range(100, 102) inclusive\n",
    "# 10 x 100 = 1000\n",
    "# 10 x 101 = 1010\n",
    "# 10 x 102 = 1020\n",
    "\n",
    "\n",
    "def Multab(n,lw,up):\n",
    "    for i in range(lw,up+1):\n",
    "        print(n,\"*\",i,\"=\",n*i)\n",
    "Multab(10,100,102)"
   ]
  },
  {
   "cell_type": "code",
   "execution_count": null,
   "metadata": {},
   "outputs": [],
   "source": []
  }
 ],
 "metadata": {
  "kernelspec": {
   "display_name": "Python 3",
   "language": "python",
   "name": "python3"
  },
  "language_info": {
   "codemirror_mode": {
    "name": "ipython",
    "version": 3
   },
   "file_extension": ".py",
   "mimetype": "text/x-python",
   "name": "python",
   "nbconvert_exporter": "python",
   "pygments_lexer": "ipython3",
   "version": "3.7.3"
  }
 },
 "nbformat": 4,
 "nbformat_minor": 2
}
